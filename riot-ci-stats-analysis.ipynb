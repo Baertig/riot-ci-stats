{
 "cells": [
  {
   "cell_type": "code",
   "execution_count": 3,
   "id": "646bfc1c",
   "metadata": {},
   "outputs": [],
   "source": [
    "import duckdb\n",
    "import altair as alt\n",
    "\n",
    "con = duckdb.connect(\"riot_ci_stats.duckdb\", read_only=True)"
   ]
  },
  {
   "cell_type": "code",
   "execution_count": 4,
   "id": "448acebd",
   "metadata": {},
   "outputs": [
    {
     "name": "stdout",
     "output_type": "stream",
     "text": [
      "┌────────────────────┬───────────┐\n",
      "│    column_name     │ data_type │\n",
      "│      varchar       │  varchar  │\n",
      "├────────────────────┼───────────┤\n",
      "│ id                 │ INTEGER   │\n",
      "│ job_uid            │ VARCHAR   │\n",
      "│ name               │ VARCHAR   │\n",
      "│ tasks_count        │ INTEGER   │\n",
      "│ tasks_failed_count │ INTEGER   │\n",
      "│ tasks_passed_count │ INTEGER   │\n",
      "│ runtime_avg_s      │ DOUBLE    │\n",
      "│ runtime_max_s      │ DOUBLE    │\n",
      "│ runtime_min_s      │ DOUBLE    │\n",
      "│ total_cpu_time_s   │ DOUBLE    │\n",
      "│ fetch_date         │ TIMESTAMP │\n",
      "├────────────────────┴───────────┤\n",
      "│ 11 rows              2 columns │\n",
      "└────────────────────────────────┘\n",
      "\n"
     ]
    }
   ],
   "source": [
    "# con.execute(\"SELECT table_name FROM information_schema.tables WHERE table_schema = 'main'\").fetchall()\n",
    "\n",
    "con.sql(\"SELECT column_name, data_type FROM information_schema.columns WHERE table_name = 'worker_stats' AND table_schema = 'main' ORDER BY ordinal_position\").show()"
   ]
  },
  {
   "cell_type": "markdown",
   "id": "896cd3fa",
   "metadata": {},
   "source": [
    "## Metadata"
   ]
  },
  {
   "cell_type": "code",
   "execution_count": null,
   "id": "c006ab1e",
   "metadata": {},
   "outputs": [
    {
     "name": "stdout",
     "output_type": "stream",
     "text": [
      "Number of ci jobs that have been collected so far: 491\n",
      "┌─────────┬───────┐\n",
      "│  state  │ count │\n",
      "│ varchar │ int64 │\n",
      "├─────────┼───────┤\n",
      "│ queued  │     4 │\n",
      "│ running │     4 │\n",
      "│ NULL    │    22 │\n",
      "│ stopped │    38 │\n",
      "│ errored │   163 │\n",
      "│ passed  │   260 │\n",
      "└─────────┴───────┘\n",
      "\n",
      "total executed build and test tasks: 16022991\n"
     ]
    }
   ],
   "source": [
    "ci_jobs_count = con.execute(\"SELECT COUNT(*) FROM jobs\").fetchone()\n",
    "ci_jobs_per_state = con.execute(\"SELECT state, COUNT(*) FROM jobs GROUP BY state\").fetchall()\n",
    "\n",
    "total_tasks_executed = con.execute(\"SELECT SUM(tasks_count) FROM worker_stats\").fetchone()\n",
    "\n",
    "print(f\"Number of ci jobs that have been collected so far: {ci_jobs_count[0]}\")\n",
    "# print(f\"{ci_jobs_per_state}\")\n",
    "print(\"number of jobs per state\")\n",
    "con.sql(\"SELECT state, COUNT(*) as count FROM jobs GROUP BY state order by count\").show()\n",
    "print(f\"total executed build and test tasks: {total_tasks_executed[0]}\")"
   ]
  },
  {
   "cell_type": "markdown",
   "id": "0cb826ad",
   "metadata": {},
   "source": [
    "## CI average runtime"
   ]
  },
  {
   "cell_type": "code",
   "execution_count": 4,
   "id": "78d42465",
   "metadata": {},
   "outputs": [
    {
     "data": {
      "text/html": [
       "\n",
       "<style>\n",
       "  #altair-viz-8f6988adf80a4862aaf9f2897e42ef48.vega-embed {\n",
       "    width: 100%;\n",
       "    display: flex;\n",
       "  }\n",
       "\n",
       "  #altair-viz-8f6988adf80a4862aaf9f2897e42ef48.vega-embed details,\n",
       "  #altair-viz-8f6988adf80a4862aaf9f2897e42ef48.vega-embed details summary {\n",
       "    position: relative;\n",
       "  }\n",
       "</style>\n",
       "<div id=\"altair-viz-8f6988adf80a4862aaf9f2897e42ef48\"></div>\n",
       "<script type=\"text/javascript\">\n",
       "  var VEGA_DEBUG = (typeof VEGA_DEBUG == \"undefined\") ? {} : VEGA_DEBUG;\n",
       "  (function(spec, embedOpt){\n",
       "    let outputDiv = document.currentScript.previousElementSibling;\n",
       "    if (outputDiv.id !== \"altair-viz-8f6988adf80a4862aaf9f2897e42ef48\") {\n",
       "      outputDiv = document.getElementById(\"altair-viz-8f6988adf80a4862aaf9f2897e42ef48\");\n",
       "    }\n",
       "\n",
       "    const paths = {\n",
       "      \"vega\": \"https://cdn.jsdelivr.net/npm/vega@5?noext\",\n",
       "      \"vega-lib\": \"https://cdn.jsdelivr.net/npm/vega-lib?noext\",\n",
       "      \"vega-lite\": \"https://cdn.jsdelivr.net/npm/vega-lite@5.20.1?noext\",\n",
       "      \"vega-embed\": \"https://cdn.jsdelivr.net/npm/vega-embed@6?noext\",\n",
       "    };\n",
       "\n",
       "    function maybeLoadScript(lib, version) {\n",
       "      var key = `${lib.replace(\"-\", \"\")}_version`;\n",
       "      return (VEGA_DEBUG[key] == version) ?\n",
       "        Promise.resolve(paths[lib]) :\n",
       "        new Promise(function(resolve, reject) {\n",
       "          var s = document.createElement('script');\n",
       "          document.getElementsByTagName(\"head\")[0].appendChild(s);\n",
       "          s.async = true;\n",
       "          s.onload = () => {\n",
       "            VEGA_DEBUG[key] = version;\n",
       "            return resolve(paths[lib]);\n",
       "          };\n",
       "          s.onerror = () => reject(`Error loading script: ${paths[lib]}`);\n",
       "          s.src = paths[lib];\n",
       "        });\n",
       "    }\n",
       "\n",
       "    function showError(err) {\n",
       "      outputDiv.innerHTML = `<div class=\"error\" style=\"color:red;\">${err}</div>`;\n",
       "      throw err;\n",
       "    }\n",
       "\n",
       "    function displayChart(vegaEmbed) {\n",
       "      vegaEmbed(outputDiv, spec, embedOpt)\n",
       "        .catch(err => showError(`Javascript Error: ${err.message}<br>This usually means there's a typo in your chart specification. See the javascript console for the full traceback.`));\n",
       "    }\n",
       "\n",
       "    if(typeof define === \"function\" && define.amd) {\n",
       "      requirejs.config({paths});\n",
       "      let deps = [\"vega-embed\"];\n",
       "      require(deps, displayChart, err => showError(`Error loading script: ${err.message}`));\n",
       "    } else {\n",
       "      maybeLoadScript(\"vega\", \"5\")\n",
       "        .then(() => maybeLoadScript(\"vega-lite\", \"5.20.1\"))\n",
       "        .then(() => maybeLoadScript(\"vega-embed\", \"6\"))\n",
       "        .catch(showError)\n",
       "        .then(() => displayChart(vegaEmbed));\n",
       "    }\n",
       "  })({\"config\": {\"view\": {\"continuousWidth\": 300, \"continuousHeight\": 300}}, \"data\": {\"name\": \"data-9c2994cb51cdb087268c69df5ec628d9\"}, \"mark\": {\"type\": \"bar\"}, \"encoding\": {\"tooltip\": [{\"field\": \"avg_runtime\", \"type\": \"quantitative\"}], \"x\": {\"field\": \"worker_name\", \"title\": \"Worker Name\", \"type\": \"ordinal\"}, \"y\": {\"field\": \"avg_runtime\", \"title\": \"Average Runtime\", \"type\": \"quantitative\"}}, \"$schema\": \"https://vega.github.io/schema/vega-lite/v5.20.1.json\", \"datasets\": {\"data-9c2994cb51cdb087268c69df5ec628d9\": [{\"worker_name\": \"breeze\", \"avg_runtime\": 2.7679637146941722}, {\"worker_name\": \"alien\", \"avg_runtime\": 2.8666568394011986}, {\"worker_name\": \"mobi6\", \"avg_runtime\": 3.4047811020036662}, {\"worker_name\": \"tatooine\", \"avg_runtime\": 3.4259219468439364}, {\"worker_name\": \"ZIH-node\", \"avg_runtime\": 3.877670056131587}, {\"worker_name\": \"mobi7\", \"avg_runtime\": 4.391420740187132}, {\"worker_name\": \"mobi3\", \"avg_runtime\": 4.558821114224521}, {\"worker_name\": \"pi-68cf63c4\", \"avg_runtime\": 25.25573722406286}, {\"worker_name\": \"pi-ef3229ad\", \"avg_runtime\": 30.538481259194793}]}}, {\"mode\": \"vega-lite\"});\n",
       "</script>"
      ],
      "text/plain": [
       "alt.Chart(...)"
      ]
     },
     "execution_count": 4,
     "metadata": {},
     "output_type": "execute_result"
    }
   ],
   "source": [
    "\n",
    "# Calculate weighted average over all ci runs\n",
    "query = \"\"\"\n",
    "SELECT if(name like 'ZIH-HPC-node%', 'ZIH-node', name) as worker_name , SUM(runtime_avg_s * tasks_count) / SUM(tasks_count) AS \"avg_runtime\"\n",
    "FROM worker_stats\n",
    "WHERE tasks_count not null and tasks_count != 0\n",
    "GROUP BY worker_name\n",
    "ORDER BY avg_runtime\n",
    "\"\"\"\n",
    "df_runtime = con.execute(query).fetch_df()\n",
    "\n",
    "# Plot the average runtime by worker name using a bar chart\n",
    "chart = alt.Chart(df_runtime).mark_bar().encode(\n",
    "    x=alt.X('worker_name:O', title='Worker Name'),\n",
    "    y=alt.Y('avg_runtime:Q', title='Average Runtime'),\n",
    "    tooltip=[\"avg_runtime\"]\n",
    ")\n",
    "chart"
   ]
  }
 ],
 "metadata": {
  "kernelspec": {
   "display_name": "riot-ci-stats-N4sOzU5n",
   "language": "python",
   "name": "python3"
  },
  "language_info": {
   "codemirror_mode": {
    "name": "ipython",
    "version": 3
   },
   "file_extension": ".py",
   "mimetype": "text/x-python",
   "name": "python",
   "nbconvert_exporter": "python",
   "pygments_lexer": "ipython3",
   "version": "3.12.3"
  }
 },
 "nbformat": 4,
 "nbformat_minor": 5
}
