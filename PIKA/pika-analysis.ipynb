{
 "cells": [
  {
   "cell_type": "code",
   "execution_count": 17,
   "id": "d58f3f35",
   "metadata": {},
   "outputs": [],
   "source": [
    "import polars as pl\n",
    "import altair as alt\n",
    "\n",
    "def parse_duration(col: str) -> pl.Expr:\n",
    "    \"\"\"\n",
    "    Parse a duration string in the format 'XXd XXh XXmin XXs' into a Polars Duration type.\n",
    "    \n",
    "    Args:\n",
    "        col: Name of the column containing duration strings.\n",
    "    \n",
    "    Returns:\n",
    "        Polars expression that produces a Duration column.\n",
    "    \"\"\"\n",
    "    return (\n",
    "        pl.col(col)\n",
    "                .str.extract_groups(r\"(\\d+)d\\s*(\\d+)h\\s*(\\d+)min\\s*(\\d+)s\")\n",
    "                .struct.rename_fields([\"days\", \"hours\", \"minutes\", \"seconds\"])\n",
    "                .pipe(lambda x: pl.duration(\n",
    "                    days=x.struct.field(\"days\").cast(pl.Int64, strict=False),\n",
    "                    hours=x.struct.field(\"hours\").cast(pl.Int64, strict=False),\n",
    "                    minutes=x.struct.field(\"minutes\").cast(pl.Int64, strict=False),\n",
    "                    seconds=x.struct.field(\"seconds\").cast(pl.Int64, strict=False)\n",
    "                ))\n",
    "    )"
   ]
  },
  {
   "cell_type": "code",
   "execution_count": 21,
   "id": "14186d9d",
   "metadata": {},
   "outputs": [
    {
     "data": {
      "text/html": [
       "<div><style>\n",
       ".dataframe > thead > tr,\n",
       ".dataframe > tbody > tr {\n",
       "  text-align: right;\n",
       "  white-space: pre-wrap;\n",
       "}\n",
       "</style>\n",
       "<small>shape: (189, 15)</small><table border=\"1\" class=\"dataframe\"><thead><tr><th>Job ID</th><th>Project</th><th>Start</th><th>End</th><th>State</th><th>#Nodes</th><th>#Cores</th><th>#GPUs</th><th>Exclusive</th><th>Walltime</th><th>Pending</th><th>Duration</th><th>Core Hours</th><th>Used Walltime</th><th>Partition</th></tr><tr><td>i64</td><td>str</td><td>datetime[μs]</td><td>datetime[μs]</td><td>str</td><td>i64</td><td>i64</td><td>i64</td><td>i64</td><td>duration[μs]</td><td>duration[μs]</td><td>duration[μs]</td><td>f64</td><td>f64</td><td>str</td></tr></thead><tbody><tr><td>17341221</td><td>&quot;p_lv_internet&quot;</td><td>2025-06-02 08:30:07</td><td>2025-06-02 09:00:16</td><td>&quot;timeout&quot;</td><td>3</td><td>6</td><td>0</td><td>0</td><td>30m</td><td>0µs</td><td>30m 9s</td><td>3.02</td><td>100.5</td><td>&quot;barnard&quot;</td></tr><tr><td>17336715</td><td>&quot;p_lv_internet&quot;</td><td>2025-05-30 22:20:13</td><td>2025-05-30 22:50:41</td><td>&quot;timeout&quot;</td><td>3</td><td>6</td><td>0</td><td>0</td><td>30m</td><td>0µs</td><td>30m 28s</td><td>3.05</td><td>101.56</td><td>&quot;barnard&quot;</td></tr><tr><td>17324136</td><td>&quot;p_lv_internet&quot;</td><td>2025-05-29 13:10:15</td><td>2025-05-29 13:40:37</td><td>&quot;timeout&quot;</td><td>3</td><td>6</td><td>0</td><td>0</td><td>30m</td><td>0µs</td><td>30m 22s</td><td>3.04</td><td>101.22</td><td>&quot;barnard&quot;</td></tr><tr><td>17323529</td><td>&quot;p_lv_internet&quot;</td><td>2025-05-28 19:15:47</td><td>2025-05-28 19:35:04</td><td>&quot;cancelled&quot;</td><td>3</td><td>6</td><td>0</td><td>0</td><td>30m</td><td>0µs</td><td>19m 17s</td><td>1.93</td><td>64.28</td><td>&quot;barnard&quot;</td></tr><tr><td>17299108</td><td>&quot;p_lv_internet&quot;</td><td>2025-05-26 08:55:07</td><td>2025-05-26 09:20:06</td><td>&quot;cancelled&quot;</td><td>3</td><td>6</td><td>0</td><td>0</td><td>30m</td><td>0µs</td><td>24m 59s</td><td>2.5</td><td>83.28</td><td>&quot;barnard&quot;</td></tr><tr><td>&hellip;</td><td>&hellip;</td><td>&hellip;</td><td>&hellip;</td><td>&hellip;</td><td>&hellip;</td><td>&hellip;</td><td>&hellip;</td><td>&hellip;</td><td>&hellip;</td><td>&hellip;</td><td>&hellip;</td><td>&hellip;</td><td>&hellip;</td><td>&hellip;</td></tr><tr><td>17157301</td><td>&quot;p_lv_internet&quot;</td><td>2025-05-19 16:20:00</td><td>2025-05-19 16:50:08</td><td>&quot;timeout&quot;</td><td>3</td><td>6</td><td>0</td><td>0</td><td>30m</td><td>14m 53s</td><td>30m 8s</td><td>3.01</td><td>100.44</td><td>&quot;barnard&quot;</td></tr><tr><td>17181314</td><td>&quot;p_lv_internet&quot;</td><td>2025-05-20 11:33:33</td><td>2025-05-20 11:56:49</td><td>&quot;cancelled&quot;</td><td>3</td><td>6</td><td>0</td><td>0</td><td>30m</td><td>18m 17s</td><td>23m 16s</td><td>2.33</td><td>77.56</td><td>&quot;barnard&quot;</td></tr><tr><td>17100910</td><td>&quot;p_lv_internet&quot;</td><td>2025-05-15 16:43:08</td><td>2025-05-15 17:13:13</td><td>&quot;timeout&quot;</td><td>3</td><td>6</td><td>0</td><td>0</td><td>30m</td><td>23m 5s</td><td>30m 5s</td><td>3.01</td><td>100.28</td><td>&quot;barnard&quot;</td></tr><tr><td>17252348</td><td>&quot;p_lv_internet&quot;</td><td>2025-05-21 17:19:46</td><td>2025-05-21 17:50:01</td><td>&quot;timeout&quot;</td><td>3</td><td>6</td><td>0</td><td>0</td><td>30m</td><td>34m 33s</td><td>30m 15s</td><td>3.02</td><td>100.83</td><td>&quot;barnard&quot;</td></tr><tr><td>17168791</td><td>&quot;p_lv_internet&quot;</td><td>2025-05-20 02:49:12</td><td>2025-05-20 03:19:26</td><td>&quot;timeout&quot;</td><td>3</td><td>6</td><td>0</td><td>0</td><td>30m</td><td>1h 49m 6s</td><td>30m 14s</td><td>3.02</td><td>100.78</td><td>&quot;barnard&quot;</td></tr></tbody></table></div>"
      ],
      "text/plain": [
       "shape: (189, 15)\n",
       "┌──────────┬────────────┬────────────┬────────────┬───┬────────────┬───────┬───────────┬───────────┐\n",
       "│ Job ID   ┆ Project    ┆ Start      ┆ End        ┆ … ┆ Duration   ┆ Core  ┆ Used      ┆ Partition │\n",
       "│ ---      ┆ ---        ┆ ---        ┆ ---        ┆   ┆ ---        ┆ Hours ┆ Walltime  ┆ ---       │\n",
       "│ i64      ┆ str        ┆ datetime[μ ┆ datetime[μ ┆   ┆ duration[μ ┆ ---   ┆ ---       ┆ str       │\n",
       "│          ┆            ┆ s]         ┆ s]         ┆   ┆ s]         ┆ f64   ┆ f64       ┆           │\n",
       "╞══════════╪════════════╪════════════╪════════════╪═══╪════════════╪═══════╪═══════════╪═══════════╡\n",
       "│ 17341221 ┆ p_lv_inter ┆ 2025-06-02 ┆ 2025-06-02 ┆ … ┆ 30m 9s     ┆ 3.02  ┆ 100.5     ┆ barnard   │\n",
       "│          ┆ net        ┆ 08:30:07   ┆ 09:00:16   ┆   ┆            ┆       ┆           ┆           │\n",
       "│ 17336715 ┆ p_lv_inter ┆ 2025-05-30 ┆ 2025-05-30 ┆ … ┆ 30m 28s    ┆ 3.05  ┆ 101.56    ┆ barnard   │\n",
       "│          ┆ net        ┆ 22:20:13   ┆ 22:50:41   ┆   ┆            ┆       ┆           ┆           │\n",
       "│ 17324136 ┆ p_lv_inter ┆ 2025-05-29 ┆ 2025-05-29 ┆ … ┆ 30m 22s    ┆ 3.04  ┆ 101.22    ┆ barnard   │\n",
       "│          ┆ net        ┆ 13:10:15   ┆ 13:40:37   ┆   ┆            ┆       ┆           ┆           │\n",
       "│ 17323529 ┆ p_lv_inter ┆ 2025-05-28 ┆ 2025-05-28 ┆ … ┆ 19m 17s    ┆ 1.93  ┆ 64.28     ┆ barnard   │\n",
       "│          ┆ net        ┆ 19:15:47   ┆ 19:35:04   ┆   ┆            ┆       ┆           ┆           │\n",
       "│ 17299108 ┆ p_lv_inter ┆ 2025-05-26 ┆ 2025-05-26 ┆ … ┆ 24m 59s    ┆ 2.5   ┆ 83.28     ┆ barnard   │\n",
       "│          ┆ net        ┆ 08:55:07   ┆ 09:20:06   ┆   ┆            ┆       ┆           ┆           │\n",
       "│ …        ┆ …          ┆ …          ┆ …          ┆ … ┆ …          ┆ …     ┆ …         ┆ …         │\n",
       "│ 17157301 ┆ p_lv_inter ┆ 2025-05-19 ┆ 2025-05-19 ┆ … ┆ 30m 8s     ┆ 3.01  ┆ 100.44    ┆ barnard   │\n",
       "│          ┆ net        ┆ 16:20:00   ┆ 16:50:08   ┆   ┆            ┆       ┆           ┆           │\n",
       "│ 17181314 ┆ p_lv_inter ┆ 2025-05-20 ┆ 2025-05-20 ┆ … ┆ 23m 16s    ┆ 2.33  ┆ 77.56     ┆ barnard   │\n",
       "│          ┆ net        ┆ 11:33:33   ┆ 11:56:49   ┆   ┆            ┆       ┆           ┆           │\n",
       "│ 17100910 ┆ p_lv_inter ┆ 2025-05-15 ┆ 2025-05-15 ┆ … ┆ 30m 5s     ┆ 3.01  ┆ 100.28    ┆ barnard   │\n",
       "│          ┆ net        ┆ 16:43:08   ┆ 17:13:13   ┆   ┆            ┆       ┆           ┆           │\n",
       "│ 17252348 ┆ p_lv_inter ┆ 2025-05-21 ┆ 2025-05-21 ┆ … ┆ 30m 15s    ┆ 3.02  ┆ 100.83    ┆ barnard   │\n",
       "│          ┆ net        ┆ 17:19:46   ┆ 17:50:01   ┆   ┆            ┆       ┆           ┆           │\n",
       "│ 17168791 ┆ p_lv_inter ┆ 2025-05-20 ┆ 2025-05-20 ┆ … ┆ 30m 14s    ┆ 3.02  ┆ 100.78    ┆ barnard   │\n",
       "│          ┆ net        ┆ 02:49:12   ┆ 03:19:26   ┆   ┆            ┆       ┆           ┆           │\n",
       "└──────────┴────────────┴────────────┴────────────┴───┴────────────┴───────┴───────────┴───────────┘"
      ]
     },
     "execution_count": 21,
     "metadata": {},
     "output_type": "execute_result"
    }
   ],
   "source": [
    "pika_df = pl.read_csv(\"data/download.csv\").with_columns(\n",
    "    pl.col(\"Start\").str.to_datetime(format=\"%d/%m/%Y %H:%M:%S\"),\n",
    "    pl.col(\"End\").str.to_datetime(format=\"%d/%m/%Y %H:%M:%S\"),\n",
    "    parse_duration(\"Walltime\").alias(\"Walltime\"),\n",
    "    parse_duration(\"Pending\").alias(\"Pending\"),\n",
    "    parse_duration(\"Duration\").alias(\"Duration\"),\n",
    ")\n",
    "\n",
    "pika_df.sort(\"Pending\")"
   ]
  },
  {
   "cell_type": "code",
   "execution_count": null,
   "id": "c9bfe6d2",
   "metadata": {},
   "outputs": [],
   "source": []
  },
  {
   "cell_type": "code",
   "execution_count": 20,
   "id": "33959d34",
   "metadata": {},
   "outputs": [
    {
     "data": {
      "text/html": [
       "\n",
       "<style>\n",
       "  #altair-viz-01ba6f80065449c0a4d6e1619b6503fc.vega-embed {\n",
       "    width: 100%;\n",
       "    display: flex;\n",
       "  }\n",
       "\n",
       "  #altair-viz-01ba6f80065449c0a4d6e1619b6503fc.vega-embed details,\n",
       "  #altair-viz-01ba6f80065449c0a4d6e1619b6503fc.vega-embed details summary {\n",
       "    position: relative;\n",
       "  }\n",
       "</style>\n",
       "<div id=\"altair-viz-01ba6f80065449c0a4d6e1619b6503fc\"></div>\n",
       "<script type=\"text/javascript\">\n",
       "  var VEGA_DEBUG = (typeof VEGA_DEBUG == \"undefined\") ? {} : VEGA_DEBUG;\n",
       "  (function(spec, embedOpt){\n",
       "    let outputDiv = document.currentScript.previousElementSibling;\n",
       "    if (outputDiv.id !== \"altair-viz-01ba6f80065449c0a4d6e1619b6503fc\") {\n",
       "      outputDiv = document.getElementById(\"altair-viz-01ba6f80065449c0a4d6e1619b6503fc\");\n",
       "    }\n",
       "\n",
       "    const paths = {\n",
       "      \"vega\": \"https://cdn.jsdelivr.net/npm/vega@5?noext\",\n",
       "      \"vega-lib\": \"https://cdn.jsdelivr.net/npm/vega-lib?noext\",\n",
       "      \"vega-lite\": \"https://cdn.jsdelivr.net/npm/vega-lite@5.20.1?noext\",\n",
       "      \"vega-embed\": \"https://cdn.jsdelivr.net/npm/vega-embed@6?noext\",\n",
       "    };\n",
       "\n",
       "    function maybeLoadScript(lib, version) {\n",
       "      var key = `${lib.replace(\"-\", \"\")}_version`;\n",
       "      return (VEGA_DEBUG[key] == version) ?\n",
       "        Promise.resolve(paths[lib]) :\n",
       "        new Promise(function(resolve, reject) {\n",
       "          var s = document.createElement('script');\n",
       "          document.getElementsByTagName(\"head\")[0].appendChild(s);\n",
       "          s.async = true;\n",
       "          s.onload = () => {\n",
       "            VEGA_DEBUG[key] = version;\n",
       "            return resolve(paths[lib]);\n",
       "          };\n",
       "          s.onerror = () => reject(`Error loading script: ${paths[lib]}`);\n",
       "          s.src = paths[lib];\n",
       "        });\n",
       "    }\n",
       "\n",
       "    function showError(err) {\n",
       "      outputDiv.innerHTML = `<div class=\"error\" style=\"color:red;\">${err}</div>`;\n",
       "      throw err;\n",
       "    }\n",
       "\n",
       "    function displayChart(vegaEmbed) {\n",
       "      vegaEmbed(outputDiv, spec, embedOpt)\n",
       "        .catch(err => showError(`Javascript Error: ${err.message}<br>This usually means there's a typo in your chart specification. See the javascript console for the full traceback.`));\n",
       "    }\n",
       "\n",
       "    if(typeof define === \"function\" && define.amd) {\n",
       "      requirejs.config({paths});\n",
       "      let deps = [\"vega-embed\"];\n",
       "      require(deps, displayChart, err => showError(`Error loading script: ${err.message}`));\n",
       "    } else {\n",
       "      maybeLoadScript(\"vega\", \"5\")\n",
       "        .then(() => maybeLoadScript(\"vega-lite\", \"5.20.1\"))\n",
       "        .then(() => maybeLoadScript(\"vega-embed\", \"6\"))\n",
       "        .catch(showError)\n",
       "        .then(() => displayChart(vegaEmbed));\n",
       "    }\n",
       "  })({\"config\": {\"view\": {\"continuousWidth\": 300, \"continuousHeight\": 300}}, \"data\": {\"name\": \"data-670c84ea7ddca57c5b563d04d79ba617\"}, \"mark\": {\"type\": \"line\"}, \"encoding\": {\"x\": {\"field\": \"Start\", \"type\": \"temporal\"}, \"y\": {\"field\": \"Pending\", \"title\": \"pending time in sec\", \"type\": \"quantitative\"}}, \"$schema\": \"https://vega.github.io/schema/vega-lite/v5.20.1.json\", \"datasets\": {\"data-670c84ea7ddca57c5b563d04d79ba617\": [{\"Start\": \"2025-06-04T15:00:26\", \"Pending\": 20}, {\"Start\": \"2025-06-04T12:40:33\", \"Pending\": 26}, {\"Start\": \"2025-06-04T12:05:10\", \"Pending\": 4}, {\"Start\": \"2025-06-04T11:30:19\", \"Pending\": 11}, {\"Start\": \"2025-06-04T10:45:55\", \"Pending\": 4}, {\"Start\": \"2025-06-04T10:20:16\", \"Pending\": 9}, {\"Start\": \"2025-06-04T10:00:10\", \"Pending\": 2}, {\"Start\": \"2025-06-04T09:15:56\", \"Pending\": 5}, {\"Start\": \"2025-06-04T08:30:12\", \"Pending\": 6}, {\"Start\": \"2025-06-03T19:10:16\", \"Pending\": 10}, {\"Start\": \"2025-06-03T18:35:27\", \"Pending\": 20}, {\"Start\": \"2025-06-03T18:00:35\", \"Pending\": 3}, {\"Start\": \"2025-06-03T17:26:11\", \"Pending\": 10}, {\"Start\": \"2025-06-03T16:50:29\", \"Pending\": 7}, {\"Start\": \"2025-06-03T16:15:13\", \"Pending\": 7}, {\"Start\": \"2025-06-03T15:40:25\", \"Pending\": 19}, {\"Start\": \"2025-06-03T15:05:41\", \"Pending\": 28}, {\"Start\": \"2025-06-03T14:30:35\", \"Pending\": 29}, {\"Start\": \"2025-06-03T13:55:30\", \"Pending\": 23}, {\"Start\": \"2025-06-03T13:20:22\", \"Pending\": 15}, {\"Start\": \"2025-06-03T12:45:53\", \"Pending\": 1}, {\"Start\": \"2025-06-03T12:10:22\", \"Pending\": 13}, {\"Start\": \"2025-06-03T11:36:13\", \"Pending\": 20}, {\"Start\": \"2025-06-03T11:05:15\", \"Pending\": 1}, {\"Start\": \"2025-06-03T10:26:16\", \"Pending\": 21}, {\"Start\": \"2025-06-03T09:00:10\", \"Pending\": 2}, {\"Start\": \"2025-06-02T21:35:18\", \"Pending\": 16}, {\"Start\": \"2025-06-02T20:30:22\", \"Pending\": 16}, {\"Start\": \"2025-06-02T19:55:59\", \"Pending\": 7}, {\"Start\": \"2025-06-02T18:05:12\", \"Pending\": 8}, {\"Start\": \"2025-06-02T16:15:20\", \"Pending\": 13}, {\"Start\": \"2025-06-02T14:36:49\", \"Pending\": 3}, {\"Start\": \"2025-06-02T14:05:22\", \"Pending\": 9}, {\"Start\": \"2025-06-02T13:00:31\", \"Pending\": 24}, {\"Start\": \"2025-06-02T12:26:07\", \"Pending\": 15}, {\"Start\": \"2025-06-02T11:50:09\", \"Pending\": 2}, {\"Start\": \"2025-06-02T11:15:06\", \"Pending\": 2}, {\"Start\": \"2025-06-02T10:41:33\", \"Pending\": 7}, {\"Start\": \"2025-06-02T10:05:29\", \"Pending\": 3}, {\"Start\": \"2025-06-02T09:30:18\", \"Pending\": 11}, {\"Start\": \"2025-06-02T08:30:07\", \"Pending\": 0}, {\"Start\": \"2025-05-31T11:50:12\", \"Pending\": 6}, {\"Start\": \"2025-05-31T11:15:13\", \"Pending\": 10}, {\"Start\": \"2025-05-30T23:19:58\", \"Pending\": 14}, {\"Start\": \"2025-05-30T22:20:13\", \"Pending\": 0}, {\"Start\": \"2025-05-30T17:16:00\", \"Pending\": 3}, {\"Start\": \"2025-05-29T13:10:15\", \"Pending\": 0}, {\"Start\": \"2025-05-28T22:35:16\", \"Pending\": 13}, {\"Start\": \"2025-05-28T21:10:11\", \"Pending\": 1}, {\"Start\": \"2025-05-28T20:15:08\", \"Pending\": 1}, {\"Start\": \"2025-05-28T19:15:47\", \"Pending\": 0}, {\"Start\": \"2025-05-28T18:43:54\", \"Pending\": 1}, {\"Start\": \"2025-05-28T18:10:34\", \"Pending\": 16}, {\"Start\": \"2025-05-28T15:25:55\", \"Pending\": 8}, {\"Start\": \"2025-05-28T12:05:11\", \"Pending\": 4}, {\"Start\": \"2025-05-28T11:30:09\", \"Pending\": 3}, {\"Start\": \"2025-05-28T10:55:07\", \"Pending\": 1}, {\"Start\": \"2025-05-27T23:30:08\", \"Pending\": 1}, {\"Start\": \"2025-05-27T22:56:03\", \"Pending\": 10}, {\"Start\": \"2025-05-27T22:20:10\", \"Pending\": 3}, {\"Start\": \"2025-05-27T21:45:59\", \"Pending\": 8}, {\"Start\": \"2025-05-27T21:10:24\", \"Pending\": 18}, {\"Start\": \"2025-05-27T20:30:19\", \"Pending\": 12}, {\"Start\": \"2025-05-27T19:55:20\", \"Pending\": 13}, {\"Start\": \"2025-05-27T19:05:24\", \"Pending\": 17}, {\"Start\": \"2025-05-27T15:25:50\", \"Pending\": 3}, {\"Start\": \"2025-05-27T12:15:12\", \"Pending\": 9}, {\"Start\": \"2025-05-27T11:25:09\", \"Pending\": 2}, {\"Start\": \"2025-05-27T11:00:08\", \"Pending\": 1}, {\"Start\": \"2025-05-27T10:00:13\", \"Pending\": 7}, {\"Start\": \"2025-05-27T09:25:19\", \"Pending\": 13}, {\"Start\": \"2025-05-27T08:50:31\", \"Pending\": 7}, {\"Start\": \"2025-05-27T07:15:10\", \"Pending\": 2}, {\"Start\": \"2025-05-26T21:10:11\", \"Pending\": 4}, {\"Start\": \"2025-05-26T18:30:11\", \"Pending\": 5}, {\"Start\": \"2025-05-26T17:55:21\", \"Pending\": 15}, {\"Start\": \"2025-05-26T17:20:08\", \"Pending\": 2}, {\"Start\": \"2025-05-26T14:40:11\", \"Pending\": 4}, {\"Start\": \"2025-05-26T14:05:13\", \"Pending\": 6}, {\"Start\": \"2025-05-26T13:30:12\", \"Pending\": 6}, {\"Start\": \"2025-05-26T08:55:07\", \"Pending\": 0}, {\"Start\": \"2025-05-24T22:35:13\", \"Pending\": 6}, {\"Start\": \"2025-05-24T20:00:09\", \"Pending\": 2}, {\"Start\": \"2025-05-24T19:08:53\", \"Pending\": 10}, {\"Start\": \"2025-05-24T18:35:17\", \"Pending\": 14}, {\"Start\": \"2025-05-24T10:55:53\", \"Pending\": 1}, {\"Start\": \"2025-05-23T19:55:49\", \"Pending\": 4}, {\"Start\": \"2025-05-23T19:15:51\", \"Pending\": 3}, {\"Start\": \"2025-05-23T18:40:26\", \"Pending\": 17}, {\"Start\": \"2025-05-23T18:05:05\", \"Pending\": 1}, {\"Start\": \"2025-05-23T17:30:18\", \"Pending\": 11}, {\"Start\": \"2025-05-23T14:45:49\", \"Pending\": 6}, {\"Start\": \"2025-05-23T12:05:15\", \"Pending\": 12}, {\"Start\": \"2025-05-23T11:30:16\", \"Pending\": 9}, {\"Start\": \"2025-05-23T10:55:53\", \"Pending\": 1}, {\"Start\": \"2025-05-22T14:10:08\", \"Pending\": 0}, {\"Start\": \"2025-05-22T10:35:04\", \"Pending\": 1}, {\"Start\": \"2025-05-22T10:00:06\", \"Pending\": 0}, {\"Start\": \"2025-05-21T23:15:52\", \"Pending\": 0}, {\"Start\": \"2025-05-21T22:40:17\", \"Pending\": 11}, {\"Start\": \"2025-05-21T21:50:12\", \"Pending\": 6}, {\"Start\": \"2025-05-21T19:05:09\", \"Pending\": 3}, {\"Start\": \"2025-05-21T18:25:52\", \"Pending\": 1}, {\"Start\": \"2025-05-21T17:50:18\", \"Pending\": 12}, {\"Start\": \"2025-05-21T17:19:46\", \"Pending\": 2073}, {\"Start\": \"2025-05-21T15:20:29\", \"Pending\": 16}, {\"Start\": \"2025-05-21T13:26:06\", \"Pending\": 11}, {\"Start\": \"2025-05-21T12:50:16\", \"Pending\": 5}, {\"Start\": \"2025-05-20T23:15:13\", \"Pending\": 6}, {\"Start\": \"2025-05-20T22:50:15\", \"Pending\": 6}, {\"Start\": \"2025-05-20T18:10:15\", \"Pending\": 8}, {\"Start\": \"2025-05-20T17:39:12\", \"Pending\": 546}, {\"Start\": \"2025-05-20T16:00:08\", \"Pending\": 0}, {\"Start\": \"2025-05-20T13:05:05\", \"Pending\": 2}, {\"Start\": \"2025-05-20T11:33:33\", \"Pending\": 1097}, {\"Start\": \"2025-05-20T10:40:35\", \"Pending\": 18}, {\"Start\": \"2025-05-20T09:20:19\", \"Pending\": 7}, {\"Start\": \"2025-05-20T07:40:09\", \"Pending\": 3}, {\"Start\": \"2025-05-20T03:20:15\", \"Pending\": 8}, {\"Start\": \"2025-05-20T02:49:12\", \"Pending\": 6546}, {\"Start\": \"2025-05-20T00:25:45\", \"Pending\": 15}, {\"Start\": \"2025-05-19T23:50:10\", \"Pending\": 3}, {\"Start\": \"2025-05-19T22:10:22\", \"Pending\": 15}, {\"Start\": \"2025-05-19T21:35:15\", \"Pending\": 10}, {\"Start\": \"2025-05-19T21:00:36\", \"Pending\": 18}, {\"Start\": \"2025-05-19T20:25:30\", \"Pending\": 26}, {\"Start\": \"2025-05-19T19:50:25\", \"Pending\": 19}, {\"Start\": \"2025-05-19T19:15:14\", \"Pending\": 8}, {\"Start\": \"2025-05-19T18:40:09\", \"Pending\": 2}, {\"Start\": \"2025-05-19T18:05:22\", \"Pending\": 20}, {\"Start\": \"2025-05-19T17:32:18\", \"Pending\": 17}, {\"Start\": \"2025-05-19T16:59:01\", \"Pending\": 232}, {\"Start\": \"2025-05-19T16:20:00\", \"Pending\": 893}, {\"Start\": \"2025-05-19T15:29:52\", \"Pending\": 240}, {\"Start\": \"2025-05-19T14:50:19\", \"Pending\": 12}, {\"Start\": \"2025-05-19T14:16:08\", \"Pending\": 16}, {\"Start\": \"2025-05-19T13:40:29\", \"Pending\": 22}, {\"Start\": \"2025-05-16T22:25:32\", \"Pending\": 29}, {\"Start\": \"2025-05-16T22:20:17\", \"Pending\": 10}, {\"Start\": \"2025-05-16T22:18:09\", \"Pending\": 3}, {\"Start\": \"2025-05-15T16:43:08\", \"Pending\": 1385}, {\"Start\": \"2025-05-15T14:54:15\", \"Pending\": 417}, {\"Start\": \"2025-05-14T16:08:30\", \"Pending\": 18}, {\"Start\": \"2025-04-29T13:41:26\", \"Pending\": 9}, {\"Start\": \"2025-04-29T13:38:23\", \"Pending\": 0}, {\"Start\": \"2025-04-29T13:32:18\", \"Pending\": 3}, {\"Start\": \"2025-04-29T13:30:17\", \"Pending\": 17}, {\"Start\": \"2025-04-26T03:46:28\", \"Pending\": 7}, {\"Start\": \"2025-04-26T03:10:44\", \"Pending\": 5}, {\"Start\": \"2025-04-26T02:36:04\", \"Pending\": 11}, {\"Start\": \"2025-04-26T02:05:21\", \"Pending\": 1}, {\"Start\": \"2025-04-25T23:50:07\", \"Pending\": 1}, {\"Start\": \"2025-04-25T22:59:29\", \"Pending\": 28}, {\"Start\": \"2025-04-25T22:25:31\", \"Pending\": 27}, {\"Start\": \"2025-04-25T21:50:09\", \"Pending\": 2}, {\"Start\": \"2025-04-25T20:46:07\", \"Pending\": 16}, {\"Start\": \"2025-04-25T20:11:52\", \"Pending\": 15}, {\"Start\": \"2025-04-25T19:10:35\", \"Pending\": 28}, {\"Start\": \"2025-04-25T18:35:55\", \"Pending\": 7}, {\"Start\": \"2025-04-25T18:00:09\", \"Pending\": 3}, {\"Start\": \"2025-04-25T17:36:05\", \"Pending\": 17}, {\"Start\": \"2025-04-25T17:00:15\", \"Pending\": 7}, {\"Start\": \"2025-04-25T16:11:45\", \"Pending\": 27}, {\"Start\": \"2025-04-25T15:30:33\", \"Pending\": 26}, {\"Start\": \"2025-04-25T13:20:11\", \"Pending\": 5}, {\"Start\": \"2025-04-25T12:30:17\", \"Pending\": 14}, {\"Start\": \"2025-04-25T11:55:30\", \"Pending\": 27}, {\"Start\": \"2025-04-25T11:20:11\", \"Pending\": 5}, {\"Start\": \"2025-04-25T10:45:34\", \"Pending\": 28}, {\"Start\": \"2025-04-24T18:14:23\", \"Pending\": 10}, {\"Start\": \"2025-04-24T17:43:09\", \"Pending\": 5}, {\"Start\": \"2025-04-24T17:35:18\", \"Pending\": 12}, {\"Start\": \"2025-04-24T17:15:16\", \"Pending\": 10}, {\"Start\": \"2025-04-24T16:40:11\", \"Pending\": 4}, {\"Start\": \"2025-04-24T16:34:15\", \"Pending\": 15}, {\"Start\": \"2025-04-24T16:02:44\", \"Pending\": 3}, {\"Start\": \"2025-04-24T15:38:32\", \"Pending\": 1}, {\"Start\": \"2025-04-22T13:30:24\", \"Pending\": 30}, {\"Start\": \"2025-04-22T12:47:32\", \"Pending\": 1}, {\"Start\": \"2025-04-22T11:55:32\", \"Pending\": 8}, {\"Start\": \"2025-04-22T10:34:41\", \"Pending\": 10}, {\"Start\": \"2025-04-16T17:24:43\", \"Pending\": 15}, {\"Start\": \"2025-04-16T16:57:53\", \"Pending\": 17}, {\"Start\": \"2025-04-16T16:41:31\", \"Pending\": 3}, {\"Start\": \"2025-04-16T16:37:38\", \"Pending\": 7}, {\"Start\": \"2025-04-16T16:35:51\", \"Pending\": 10}, {\"Start\": \"2025-04-16T16:34:11\", \"Pending\": 3}, {\"Start\": \"2025-04-16T15:56:54\", \"Pending\": 3}, {\"Start\": \"2025-04-14T15:25:15\", \"Pending\": 9}]}}, {\"mode\": \"vega-lite\"});\n",
       "</script>"
      ],
      "text/plain": [
       "alt.Chart(...)"
      ]
     },
     "execution_count": 20,
     "metadata": {},
     "output_type": "execute_result"
    }
   ],
   "source": [
    "alt.Chart(pika_df.with_columns(pl.col(\"Pending\").dt.total_seconds()).select([\"Start\", \"Pending\"])).mark_line().encode(\n",
    "    x=\"Start\",\n",
    "    y=alt.Y(\"Pending\", title=\"pending time in sec\")\n",
    ")\n"
   ]
  }
 ],
 "metadata": {
  "kernelspec": {
   "display_name": "riot-ci-stats-N4sOzU5n",
   "language": "python",
   "name": "python3"
  },
  "language_info": {
   "codemirror_mode": {
    "name": "ipython",
    "version": 3
   },
   "file_extension": ".py",
   "mimetype": "text/x-python",
   "name": "python",
   "nbconvert_exporter": "python",
   "pygments_lexer": "ipython3",
   "version": "3.12.3"
  }
 },
 "nbformat": 4,
 "nbformat_minor": 5
}
